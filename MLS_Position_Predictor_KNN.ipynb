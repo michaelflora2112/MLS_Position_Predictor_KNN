{
 "cells": [
  {
   "cell_type": "markdown",
   "metadata": {},
   "source": [
    "# MLS Position Analysis using Machine Learning"
   ]
  },
  {
   "cell_type": "markdown",
   "metadata": {},
   "source": [
    "In this, I will import soccer data from https://www.americansocceranalysis.com/. I will use a machine learning algorithm, K Nearest Neighbor, to predict a player's position based on a handful of input variables."
   ]
  },
  {
   "cell_type": "markdown",
   "metadata": {},
   "source": [
    "Loading packages that I will use"
   ]
  },
  {
   "cell_type": "code",
   "execution_count": 8,
   "metadata": {},
   "outputs": [],
   "source": [
    "library(tidyverse)\n",
    "library(readxl)"
   ]
  },
  {
   "cell_type": "markdown",
   "metadata": {},
   "source": [
    "I import the data from Microsoft Excel. I do some manipulating to clean the data a bit."
   ]
  },
  {
   "cell_type": "code",
   "execution_count": 9,
   "metadata": {},
   "outputs": [
    {
     "name": "stderr",
     "output_type": "stream",
     "text": [
      "New names:\n",
      "* `` -> ...2\n",
      "* `` -> ...3\n",
      "* `` -> ...4\n",
      "* `` -> ...5\n",
      "* `` -> ...6\n",
      "* … and 11 more problems\n",
      "New names:\n",
      "* `` -> ...2\n",
      "* `` -> ...3\n",
      "* `` -> ...4\n",
      "* `` -> ...5\n",
      "* `` -> ...6\n",
      "* … and 6 more problems\n",
      "New names:\n",
      "* `` -> ...2\n",
      "* `` -> ...3\n",
      "* `` -> ...4\n",
      "* `` -> ...5\n",
      "* `` -> ...6\n",
      "* … and 1 more problem\n"
     ]
    }
   ],
   "source": [
    "xgoals = read_excel(\"~/Desktop/american_soccer_analysis_mls_xgoals_players_2020-09-04.xlsx\")\n",
    "colnames(xgoals) = xgoals[2,]\n",
    "xgoals = xgoals[-c(1,2),]\n",
    "\n",
    "xpass = read_excel(\"~/Desktop/american_soccer_analysis_mls_xpass_players_2020-09-04.xlsx\")\n",
    "colnames(xpass) = xpass[2,]\n",
    "xpass = xpass[-c(1,2),]\n",
    "\n",
    "salaries = read_excel(\"~/Desktop/american_soccer_analysis_mls_salaries_players_2020-09-04.xlsx\")\n",
    "colnames(salaries) = salaries[2,]\n",
    "salaries = salaries[-c(1,2),]"
   ]
  },
  {
   "cell_type": "code",
   "execution_count": 13,
   "metadata": {},
   "outputs": [
    {
     "data": {
      "text/html": [
       "<table>\n",
       "<thead><tr><th scope=col>Player</th><th scope=col>Team</th><th scope=col>Season</th><th scope=col>Minutes</th><th scope=col>Shots</th><th scope=col>SoT</th><th scope=col>G</th><th scope=col>xG</th><th scope=col>xPlace</th><th scope=col>G-xG</th><th scope=col>KeyP</th><th scope=col>A</th><th scope=col>xA</th><th scope=col>A-xA</th><th scope=col>xG+xA</th><th scope=col>PA</th><th scope=col>xPA</th></tr></thead>\n",
       "<tbody>\n",
       "\t<tr><td>Alejandro Pozuelo</td><td>TOR              </td><td>2020             </td><td>842              </td><td>22               </td><td>8                </td><td>2                </td><td>3.1081           </td><td>-0.0426          </td><td>-1.1081          </td><td>35               </td><td>5                </td><td>5.7406           </td><td>-0.7406          </td><td>8.8487           </td><td>1.6752           </td><td>2.0247           </td></tr>\n",
       "\t<tr><td>Diego Rossi      </td><td>LAFC             </td><td>2020             </td><td>785              </td><td>31               </td><td>19               </td><td>9                </td><td>5.0942           </td><td>3.2335           </td><td>3.9058           </td><td>11               </td><td>1                </td><td>1.7839           </td><td>-0.7839          </td><td>6.8782           </td><td>3.8074           </td><td>2.4521           </td></tr>\n",
       "\t<tr><td>Cristian Pavón   </td><td>LAG              </td><td>2020             </td><td>789              </td><td>27               </td><td>14               </td><td>5                </td><td>4.3843           </td><td>1.1225           </td><td>0.6157           </td><td>13               </td><td>0                </td><td>1.5182           </td><td>-1.5182          </td><td>5.9025           </td><td>3.6652           </td><td>3.2471           </td></tr>\n",
       "\t<tr><td>Gustavo Bou      </td><td>NER              </td><td>2020             </td><td>813              </td><td>40               </td><td>16               </td><td>3                </td><td>2.8979           </td><td>0.0991           </td><td>0.1021           </td><td>23               </td><td>0                </td><td>2.7289           </td><td>-2.7289          </td><td>5.6268           </td><td>2.317            </td><td>2.4146           </td></tr>\n",
       "\t<tr><td>Raúl Ruidíaz     </td><td>SEA              </td><td>2020             </td><td>739              </td><td>27               </td><td>10               </td><td>5                </td><td>4.8687           </td><td>-0.6836          </td><td>0.1313           </td><td>6                </td><td>1                </td><td>0.553            </td><td>0.447            </td><td>5.4217           </td><td>2.963            </td><td>4.0326           </td></tr>\n",
       "\t<tr><td>Adam Buksa       </td><td>NER              </td><td>2020             </td><td>758              </td><td>24               </td><td>10               </td><td>2                </td><td>3.8472           </td><td>-0.1939          </td><td>-1.8472          </td><td>10               </td><td>0                </td><td>1.1562           </td><td>-1.1562          </td><td>5.0034           </td><td>1.5582           </td><td>2.9265           </td></tr>\n",
       "</tbody>\n",
       "</table>\n"
      ],
      "text/latex": [
       "\\begin{tabular}{r|lllllllllllllllll}\n",
       " Player & Team & Season & Minutes & Shots & SoT & G & xG & xPlace & G-xG & KeyP & A & xA & A-xA & xG+xA & PA & xPA\\\\\n",
       "\\hline\n",
       "\t Alejandro Pozuelo & TOR               & 2020              & 842               & 22                & 8                 & 2                 & 3.1081            & -0.0426           & -1.1081           & 35                & 5                 & 5.7406            & -0.7406           & 8.8487            & 1.6752            & 2.0247           \\\\\n",
       "\t Diego Rossi       & LAFC              & 2020              & 785               & 31                & 19                & 9                 & 5.0942            & 3.2335            & 3.9058            & 11                & 1                 & 1.7839            & -0.7839           & 6.8782            & 3.8074            & 2.4521           \\\\\n",
       "\t Cristian Pavón    & LAG               & 2020              & 789               & 27                & 14                & 5                 & 4.3843            & 1.1225            & 0.6157            & 13                & 0                 & 1.5182            & -1.5182           & 5.9025            & 3.6652            & 3.2471           \\\\\n",
       "\t Gustavo Bou       & NER               & 2020              & 813               & 40                & 16                & 3                 & 2.8979            & 0.0991            & 0.1021            & 23                & 0                 & 2.7289            & -2.7289           & 5.6268            & 2.317             & 2.4146           \\\\\n",
       "\t Raúl Ruidíaz      & SEA               & 2020              & 739               & 27                & 10                & 5                 & 4.8687            & -0.6836           & 0.1313            & 6                 & 1                 & 0.553             & 0.447             & 5.4217            & 2.963             & 4.0326           \\\\\n",
       "\t Adam Buksa        & NER               & 2020              & 758               & 24                & 10                & 2                 & 3.8472            & -0.1939           & -1.8472           & 10                & 0                 & 1.1562            & -1.1562           & 5.0034            & 1.5582            & 2.9265           \\\\\n",
       "\\end{tabular}\n"
      ],
      "text/markdown": [
       "\n",
       "| Player | Team | Season | Minutes | Shots | SoT | G | xG | xPlace | G-xG | KeyP | A | xA | A-xA | xG+xA | PA | xPA |\n",
       "|---|---|---|---|---|---|---|---|---|---|---|---|---|---|---|---|---|\n",
       "| Alejandro Pozuelo | TOR               | 2020              | 842               | 22                | 8                 | 2                 | 3.1081            | -0.0426           | -1.1081           | 35                | 5                 | 5.7406            | -0.7406           | 8.8487            | 1.6752            | 2.0247            |\n",
       "| Diego Rossi       | LAFC              | 2020              | 785               | 31                | 19                | 9                 | 5.0942            | 3.2335            | 3.9058            | 11                | 1                 | 1.7839            | -0.7839           | 6.8782            | 3.8074            | 2.4521            |\n",
       "| Cristian Pavón    | LAG               | 2020              | 789               | 27                | 14                | 5                 | 4.3843            | 1.1225            | 0.6157            | 13                | 0                 | 1.5182            | -1.5182           | 5.9025            | 3.6652            | 3.2471            |\n",
       "| Gustavo Bou       | NER               | 2020              | 813               | 40                | 16                | 3                 | 2.8979            | 0.0991            | 0.1021            | 23                | 0                 | 2.7289            | -2.7289           | 5.6268            | 2.317             | 2.4146            |\n",
       "| Raúl Ruidíaz      | SEA               | 2020              | 739               | 27                | 10                | 5                 | 4.8687            | -0.6836           | 0.1313            | 6                 | 1                 | 0.553             | 0.447             | 5.4217            | 2.963             | 4.0326            |\n",
       "| Adam Buksa        | NER               | 2020              | 758               | 24                | 10                | 2                 | 3.8472            | -0.1939           | -1.8472           | 10                | 0                 | 1.1562            | -1.1562           | 5.0034            | 1.5582            | 2.9265            |\n",
       "\n"
      ],
      "text/plain": [
       "  Player            Team Season Minutes Shots SoT G xG     xPlace  G-xG    KeyP\n",
       "1 Alejandro Pozuelo TOR  2020   842     22    8   2 3.1081 -0.0426 -1.1081 35  \n",
       "2 Diego Rossi       LAFC 2020   785     31    19  9 5.0942 3.2335  3.9058  11  \n",
       "3 Cristian Pavón    LAG  2020   789     27    14  5 4.3843 1.1225  0.6157  13  \n",
       "4 Gustavo Bou       NER  2020   813     40    16  3 2.8979 0.0991  0.1021  23  \n",
       "5 Raúl Ruidíaz      SEA  2020   739     27    10  5 4.8687 -0.6836 0.1313  6   \n",
       "6 Adam Buksa        NER  2020   758     24    10  2 3.8472 -0.1939 -1.8472 10  \n",
       "  A xA     A-xA    xG+xA  PA     xPA   \n",
       "1 5 5.7406 -0.7406 8.8487 1.6752 2.0247\n",
       "2 1 1.7839 -0.7839 6.8782 3.8074 2.4521\n",
       "3 0 1.5182 -1.5182 5.9025 3.6652 3.2471\n",
       "4 0 2.7289 -2.7289 5.6268 2.317  2.4146\n",
       "5 1 0.553  0.447   5.4217 2.963  4.0326\n",
       "6 0 1.1562 -1.1562 5.0034 1.5582 2.9265"
      ]
     },
     "metadata": {},
     "output_type": "display_data"
    },
    {
     "data": {
      "text/html": [
       "<ol class=list-inline>\n",
       "\t<li>'Player'</li>\n",
       "\t<li>'Team'</li>\n",
       "\t<li>'Season'</li>\n",
       "\t<li>'Minutes'</li>\n",
       "\t<li>'Shots'</li>\n",
       "\t<li>'SoT'</li>\n",
       "\t<li>'G'</li>\n",
       "\t<li>'xG'</li>\n",
       "\t<li>'xPlace'</li>\n",
       "\t<li>'G-xG'</li>\n",
       "\t<li>'KeyP'</li>\n",
       "\t<li>'A'</li>\n",
       "\t<li>'xA'</li>\n",
       "\t<li>'A-xA'</li>\n",
       "\t<li>'xG+xA'</li>\n",
       "\t<li>'PA'</li>\n",
       "\t<li>'xPA'</li>\n",
       "</ol>\n"
      ],
      "text/latex": [
       "\\begin{enumerate*}\n",
       "\\item 'Player'\n",
       "\\item 'Team'\n",
       "\\item 'Season'\n",
       "\\item 'Minutes'\n",
       "\\item 'Shots'\n",
       "\\item 'SoT'\n",
       "\\item 'G'\n",
       "\\item 'xG'\n",
       "\\item 'xPlace'\n",
       "\\item 'G-xG'\n",
       "\\item 'KeyP'\n",
       "\\item 'A'\n",
       "\\item 'xA'\n",
       "\\item 'A-xA'\n",
       "\\item 'xG+xA'\n",
       "\\item 'PA'\n",
       "\\item 'xPA'\n",
       "\\end{enumerate*}\n"
      ],
      "text/markdown": [
       "1. 'Player'\n",
       "2. 'Team'\n",
       "3. 'Season'\n",
       "4. 'Minutes'\n",
       "5. 'Shots'\n",
       "6. 'SoT'\n",
       "7. 'G'\n",
       "8. 'xG'\n",
       "9. 'xPlace'\n",
       "10. 'G-xG'\n",
       "11. 'KeyP'\n",
       "12. 'A'\n",
       "13. 'xA'\n",
       "14. 'A-xA'\n",
       "15. 'xG+xA'\n",
       "16. 'PA'\n",
       "17. 'xPA'\n",
       "\n",
       "\n"
      ],
      "text/plain": [
       " [1] \"Player\"  \"Team\"    \"Season\"  \"Minutes\" \"Shots\"   \"SoT\"     \"G\"      \n",
       " [8] \"xG\"      \"xPlace\"  \"G-xG\"    \"KeyP\"    \"A\"       \"xA\"      \"A-xA\"   \n",
       "[15] \"xG+xA\"   \"PA\"      \"xPA\"    "
      ]
     },
     "metadata": {},
     "output_type": "display_data"
    }
   ],
   "source": [
    "head(xgoals)"
   ]
  },
  {
   "cell_type": "code",
   "execution_count": 11,
   "metadata": {},
   "outputs": [
    {
     "data": {
      "text/html": [
       "<table>\n",
       "<thead><tr><th scope=col>Player</th><th scope=col>Team</th><th scope=col>Season</th><th scope=col>Minutes</th><th scope=col>Passes</th><th scope=col>Pass %</th><th scope=col>xPass %</th><th scope=col>Score</th><th scope=col>Per100</th><th scope=col>Distance</th><th scope=col>Vertical</th><th scope=col>Touch %</th></tr></thead>\n",
       "<tbody>\n",
       "\t<tr><td>Alejandro Pozuelo</td><td>TOR              </td><td>2020             </td><td>842              </td><td>584              </td><td>0.8253           </td><td>0.7756           </td><td>29.0677          </td><td>4.9773           </td><td>17.3095          </td><td>3.0467           </td><td>0.117            </td></tr>\n",
       "\t<tr><td>Steven Birnbaum  </td><td>DCU              </td><td>2020             </td><td>710              </td><td>397              </td><td>0.8615           </td><td>0.8046           </td><td>22.568           </td><td>5.6846           </td><td>21.4419          </td><td>9.9534           </td><td>0.1005           </td></tr>\n",
       "\t<tr><td>Aníbal Godoy     </td><td>NSH              </td><td>2020             </td><td>627              </td><td>371              </td><td>0.9353           </td><td>0.8748           </td><td>22.4525          </td><td>6.0519           </td><td>20.3096          </td><td>4.5876           </td><td>0.1266           </td></tr>\n",
       "\t<tr><td>Jonathan Mensah  </td><td>CLB              </td><td>2020             </td><td>893              </td><td>589              </td><td>0.8947           </td><td>0.8573           </td><td>22.0297          </td><td>3.7402           </td><td>24.7155          </td><td>9.3884           </td><td>0.1228           </td></tr>\n",
       "\t<tr><td>Michael Bradley  </td><td>TOR              </td><td>2020             </td><td>696              </td><td>581              </td><td>0.926            </td><td>0.8902           </td><td>20.793           </td><td>3.5788           </td><td>19.4394          </td><td>4.8781           </td><td>0.1136           </td></tr>\n",
       "\t<tr><td>Jonathan Osorio  </td><td>TOR              </td><td>2020             </td><td>578              </td><td>388              </td><td>0.9072           </td><td>0.8552           </td><td>20.1677          </td><td>5.1979           </td><td>15.0759          </td><td>1.7695           </td><td>0.1022           </td></tr>\n",
       "</tbody>\n",
       "</table>\n"
      ],
      "text/latex": [
       "\\begin{tabular}{r|llllllllllll}\n",
       " Player & Team & Season & Minutes & Passes & Pass \\% & xPass \\% & Score & Per100 & Distance & Vertical & Touch \\%\\\\\n",
       "\\hline\n",
       "\t Alejandro Pozuelo & TOR               & 2020              & 842               & 584               & 0.8253            & 0.7756            & 29.0677           & 4.9773            & 17.3095           & 3.0467            & 0.117            \\\\\n",
       "\t Steven Birnbaum   & DCU               & 2020              & 710               & 397               & 0.8615            & 0.8046            & 22.568            & 5.6846            & 21.4419           & 9.9534            & 0.1005           \\\\\n",
       "\t Aníbal Godoy      & NSH               & 2020              & 627               & 371               & 0.9353            & 0.8748            & 22.4525           & 6.0519            & 20.3096           & 4.5876            & 0.1266           \\\\\n",
       "\t Jonathan Mensah   & CLB               & 2020              & 893               & 589               & 0.8947            & 0.8573            & 22.0297           & 3.7402            & 24.7155           & 9.3884            & 0.1228           \\\\\n",
       "\t Michael Bradley   & TOR               & 2020              & 696               & 581               & 0.926             & 0.8902            & 20.793            & 3.5788            & 19.4394           & 4.8781            & 0.1136           \\\\\n",
       "\t Jonathan Osorio   & TOR               & 2020              & 578               & 388               & 0.9072            & 0.8552            & 20.1677           & 5.1979            & 15.0759           & 1.7695            & 0.1022           \\\\\n",
       "\\end{tabular}\n"
      ],
      "text/markdown": [
       "\n",
       "| Player | Team | Season | Minutes | Passes | Pass % | xPass % | Score | Per100 | Distance | Vertical | Touch % |\n",
       "|---|---|---|---|---|---|---|---|---|---|---|---|\n",
       "| Alejandro Pozuelo | TOR               | 2020              | 842               | 584               | 0.8253            | 0.7756            | 29.0677           | 4.9773            | 17.3095           | 3.0467            | 0.117             |\n",
       "| Steven Birnbaum   | DCU               | 2020              | 710               | 397               | 0.8615            | 0.8046            | 22.568            | 5.6846            | 21.4419           | 9.9534            | 0.1005            |\n",
       "| Aníbal Godoy      | NSH               | 2020              | 627               | 371               | 0.9353            | 0.8748            | 22.4525           | 6.0519            | 20.3096           | 4.5876            | 0.1266            |\n",
       "| Jonathan Mensah   | CLB               | 2020              | 893               | 589               | 0.8947            | 0.8573            | 22.0297           | 3.7402            | 24.7155           | 9.3884            | 0.1228            |\n",
       "| Michael Bradley   | TOR               | 2020              | 696               | 581               | 0.926             | 0.8902            | 20.793            | 3.5788            | 19.4394           | 4.8781            | 0.1136            |\n",
       "| Jonathan Osorio   | TOR               | 2020              | 578               | 388               | 0.9072            | 0.8552            | 20.1677           | 5.1979            | 15.0759           | 1.7695            | 0.1022            |\n",
       "\n"
      ],
      "text/plain": [
       "  Player            Team Season Minutes Passes Pass % xPass % Score   Per100\n",
       "1 Alejandro Pozuelo TOR  2020   842     584    0.8253 0.7756  29.0677 4.9773\n",
       "2 Steven Birnbaum   DCU  2020   710     397    0.8615 0.8046  22.568  5.6846\n",
       "3 Aníbal Godoy      NSH  2020   627     371    0.9353 0.8748  22.4525 6.0519\n",
       "4 Jonathan Mensah   CLB  2020   893     589    0.8947 0.8573  22.0297 3.7402\n",
       "5 Michael Bradley   TOR  2020   696     581    0.926  0.8902  20.793  3.5788\n",
       "6 Jonathan Osorio   TOR  2020   578     388    0.9072 0.8552  20.1677 5.1979\n",
       "  Distance Vertical Touch %\n",
       "1 17.3095  3.0467   0.117  \n",
       "2 21.4419  9.9534   0.1005 \n",
       "3 20.3096  4.5876   0.1266 \n",
       "4 24.7155  9.3884   0.1228 \n",
       "5 19.4394  4.8781   0.1136 \n",
       "6 15.0759  1.7695   0.1022 "
      ]
     },
     "metadata": {},
     "output_type": "display_data"
    }
   ],
   "source": [
    "head(xpass)"
   ]
  },
  {
   "cell_type": "code",
   "execution_count": 12,
   "metadata": {},
   "outputs": [
    {
     "data": {
      "text/html": [
       "<table>\n",
       "<thead><tr><th scope=col>Player</th><th scope=col>Team</th><th scope=col>Season</th><th scope=col>Position</th><th scope=col>Base Salary</th><th scope=col>Guaranteed Compensation</th><th scope=col>Date</th></tr></thead>\n",
       "<tbody>\n",
       "\t<tr><td>Zlatan Ibrahimovic    </td><td>LAG                   </td><td>2019                  </td><td>F                     </td><td>7200000               </td><td>7200000               </td><td>2019-09-13            </td></tr>\n",
       "\t<tr><td>Michael Bradley       </td><td>TOR                   </td><td>2019                  </td><td>M                     </td><td>6000000               </td><td>6500000               </td><td>2019-09-13            </td></tr>\n",
       "\t<tr><td>Jozy Altidore         </td><td>TOR                   </td><td>2019                  </td><td>F                     </td><td>4891250.04            </td><td>6332250.04            </td><td>2019-09-13            </td></tr>\n",
       "\t<tr><td>Carlos Vela           </td><td>LAFC                  </td><td>2019                  </td><td>M                     </td><td>4500000               </td><td>6300000               </td><td>2019-09-13            </td></tr>\n",
       "\t<tr><td>Bastian Schweinsteiger</td><td>CHI                   </td><td>2019                  </td><td>M                     </td><td>5600000.04            </td><td>5600000.04            </td><td>2019-09-13            </td></tr>\n",
       "\t<tr><td>Ignacio Piatti        </td><td>MTL                   </td><td>2019                  </td><td>M                     </td><td>530000.04             </td><td>4443333.37            </td><td>2019-09-13            </td></tr>\n",
       "</tbody>\n",
       "</table>\n"
      ],
      "text/latex": [
       "\\begin{tabular}{r|lllllll}\n",
       " Player & Team & Season & Position & Base Salary & Guaranteed Compensation & Date\\\\\n",
       "\\hline\n",
       "\t Zlatan Ibrahimovic     & LAG                    & 2019                   & F                      & 7200000                & 7200000                & 2019-09-13            \\\\\n",
       "\t Michael Bradley        & TOR                    & 2019                   & M                      & 6000000                & 6500000                & 2019-09-13            \\\\\n",
       "\t Jozy Altidore          & TOR                    & 2019                   & F                      & 4891250.04             & 6332250.04             & 2019-09-13            \\\\\n",
       "\t Carlos Vela            & LAFC                   & 2019                   & M                      & 4500000                & 6300000                & 2019-09-13            \\\\\n",
       "\t Bastian Schweinsteiger & CHI                    & 2019                   & M                      & 5600000.04             & 5600000.04             & 2019-09-13            \\\\\n",
       "\t Ignacio Piatti         & MTL                    & 2019                   & M                      & 530000.04              & 4443333.37             & 2019-09-13            \\\\\n",
       "\\end{tabular}\n"
      ],
      "text/markdown": [
       "\n",
       "| Player | Team | Season | Position | Base Salary | Guaranteed Compensation | Date |\n",
       "|---|---|---|---|---|---|---|\n",
       "| Zlatan Ibrahimovic     | LAG                    | 2019                   | F                      | 7200000                | 7200000                | 2019-09-13             |\n",
       "| Michael Bradley        | TOR                    | 2019                   | M                      | 6000000                | 6500000                | 2019-09-13             |\n",
       "| Jozy Altidore          | TOR                    | 2019                   | F                      | 4891250.04             | 6332250.04             | 2019-09-13             |\n",
       "| Carlos Vela            | LAFC                   | 2019                   | M                      | 4500000                | 6300000                | 2019-09-13             |\n",
       "| Bastian Schweinsteiger | CHI                    | 2019                   | M                      | 5600000.04             | 5600000.04             | 2019-09-13             |\n",
       "| Ignacio Piatti         | MTL                    | 2019                   | M                      | 530000.04              | 4443333.37             | 2019-09-13             |\n",
       "\n"
      ],
      "text/plain": [
       "  Player                 Team Season Position Base Salary\n",
       "1 Zlatan Ibrahimovic     LAG  2019   F        7200000    \n",
       "2 Michael Bradley        TOR  2019   M        6000000    \n",
       "3 Jozy Altidore          TOR  2019   F        4891250.04 \n",
       "4 Carlos Vela            LAFC 2019   M        4500000    \n",
       "5 Bastian Schweinsteiger CHI  2019   M        5600000.04 \n",
       "6 Ignacio Piatti         MTL  2019   M        530000.04  \n",
       "  Guaranteed Compensation Date      \n",
       "1 7200000                 2019-09-13\n",
       "2 6500000                 2019-09-13\n",
       "3 6332250.04              2019-09-13\n",
       "4 6300000                 2019-09-13\n",
       "5 5600000.04              2019-09-13\n",
       "6 4443333.37              2019-09-13"
      ]
     },
     "metadata": {},
     "output_type": "display_data"
    }
   ],
   "source": [
    "head(salaries)"
   ]
  },
  {
   "cell_type": "markdown",
   "metadata": {},
   "source": [
    "Below, I will merge the 3 data frames into 1"
   ]
  },
  {
   "cell_type": "code",
   "execution_count": 14,
   "metadata": {},
   "outputs": [],
   "source": [
    "data = merge(xgoals, xpass, by = \"Player\")\n",
    "data = merge(data, salaries, by = \"Player\")"
   ]
  },
  {
   "cell_type": "markdown",
   "metadata": {},
   "source": [
    "I will create a training and a test data set to use for the KNN model."
   ]
  },
  {
   "cell_type": "code",
   "execution_count": 15,
   "metadata": {},
   "outputs": [],
   "source": [
    "set.seed(123)\n",
    "\n",
    "train_index = sample(nrow(data) , floor(nrow(data) * .5))\n",
    "\n",
    "train = data[train_index,]\n",
    "test = data[-train_index,]"
   ]
  },
  {
   "cell_type": "markdown",
   "metadata": {},
   "source": [
    "Below, I will perform the KNN model based on different K parameters and I will track the accuracy."
   ]
  },
  {
   "cell_type": "code",
   "execution_count": 62,
   "metadata": {},
   "outputs": [],
   "source": [
    "library(class)\n",
    "\n",
    "knn.accuracy = 1\n",
    "\n",
    "for(i in 1:10)\n",
    "{\n",
    "  knn.pred = knn(train = train[,c(5,6,8,13,17,21,23,26,27,28)] , test = test[,c(5,6,8,13,17,21,23,26,27,28)] , cl = train$Position, k = i)\n",
    "  knn.accuracy[i] = sum(knn.pred == test$Position) / nrow(test)\n",
    "}"
   ]
  },
  {
   "cell_type": "code",
   "execution_count": 63,
   "metadata": {},
   "outputs": [
    {
     "data": {
      "image/png": "[encoded data removed]",
      "text/plain": [
       "Plot with title “KNN accuracy based on parameter K”"
      ]
     },
     "metadata": {},
     "output_type": "display_data"
    }
   ],
   "source": [
    "plot(knn.accuracy, main = \"KNN accuracy based on parameter K\", xlab = \"K\", ylab = \"Accuracy\", type = \"b\")\n"
   ]
  },
  {
   "cell_type": "markdown",
   "metadata": {},
   "source": [
    "As we can see, K = 8 has the highest accuracy. I will re run the model with K = 8, so we can take a closer look at how our model is performing."
   ]
  },
  {
   "cell_type": "code",
   "execution_count": 80,
   "metadata": {},
   "outputs": [],
   "source": [
    "knn_5 = knn(train = train[,c(5,6,8,13,17,21,23,26,27,28)] , test = test[,c(5,6,8,13,17,21,23,26,27,28)] , cl = train$Position, k = 8)"
   ]
  },
  {
   "cell_type": "code",
   "execution_count": 81,
   "metadata": {},
   "outputs": [
    {
     "data": {
      "text/plain": [
       "\n",
       "FALSE  TRUE \n",
       "   77   108 "
      ]
     },
     "metadata": {},
     "output_type": "display_data"
    }
   ],
   "source": [
    "table(knn_5 == test$Position)"
   ]
  },
  {
   "cell_type": "markdown",
   "metadata": {},
   "source": [
    "Below is a Confusion Matrix."
   ]
  },
  {
   "cell_type": "code",
   "execution_count": 84,
   "metadata": {},
   "outputs": [
    {
     "data": {
      "text/plain": [
       "     \n",
       "knn_5  D  F GK  M\n",
       "   D  43  0  1 15\n",
       "   F   5 18  0 11\n",
       "   GK  0  0  0  0\n",
       "   M  27 17  1 47"
      ]
     },
     "metadata": {},
     "output_type": "display_data"
    }
   ],
   "source": [
    "table(knn_5, test$Position)"
   ]
  },
  {
   "cell_type": "code",
   "execution_count": 86,
   "metadata": {},
   "outputs": [
    {
     "data": {
      "text/html": [
       "0.573333333333333"
      ],
      "text/latex": [
       "0.573333333333333"
      ],
      "text/markdown": [
       "0.573333333333333"
      ],
      "text/plain": [
       "[1] 0.5733333"
      ]
     },
     "metadata": {},
     "output_type": "display_data"
    }
   ],
   "source": [
    "defender_accuracy = 43 / (43 + 5 + 27)\n",
    "defender_accuracy"
   ]
  },
  {
   "cell_type": "code",
   "execution_count": 87,
   "metadata": {},
   "outputs": [
    {
     "data": {
      "text/html": [
       "0.643835616438356"
      ],
      "text/latex": [
       "0.643835616438356"
      ],
      "text/markdown": [
       "0.643835616438356"
      ],
      "text/plain": [
       "[1] 0.6438356"
      ]
     },
     "metadata": {},
     "output_type": "display_data"
    }
   ],
   "source": [
    "midfielder_accuracy = 47 / (15 + 11 + 47)\n",
    "midfielder_accuracy"
   ]
  },
  {
   "cell_type": "code",
   "execution_count": 88,
   "metadata": {},
   "outputs": [
    {
     "data": {
      "text/html": [
       "0.514285714285714"
      ],
      "text/latex": [
       "0.514285714285714"
      ],
      "text/markdown": [
       "0.514285714285714"
      ],
      "text/plain": [
       "[1] 0.5142857"
      ]
     },
     "metadata": {},
     "output_type": "display_data"
    }
   ],
   "source": [
    "forward_accuracy = 18 / (0 + 18 + 0 + 17)\n",
    "forward_accuracy"
   ]
  },
  {
   "cell_type": "code",
   "execution_count": 89,
   "metadata": {},
   "outputs": [
    {
     "data": {
      "text/html": [
       "0"
      ],
      "text/latex": [
       "0"
      ],
      "text/markdown": [
       "0"
      ],
      "text/plain": [
       "[1] 0"
      ]
     },
     "metadata": {},
     "output_type": "display_data"
    }
   ],
   "source": [
    "gk_accuracy = 0\n",
    "gk_accuracy"
   ]
  }
 ],
 "metadata": {
  "kernelspec": {
   "display_name": "R",
   "language": "R",
   "name": "ir"
  },
  "language_info": {
   "codemirror_mode": "r",
   "file_extension": ".r",
   "mimetype": "text/x-r-source",
   "name": "R",
   "pygments_lexer": "r",
   "version": "3.6.1"
  }
 },
 "nbformat": 4,
 "nbformat_minor": 4
}
